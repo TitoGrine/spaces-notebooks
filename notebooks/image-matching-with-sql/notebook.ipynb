{
  "cells": [
    {
      "cell_type": "markdown",
      "id": "dff08daa-d4e7-4816-b8de-be40c86ec2b9",
      "metadata": {},
      "source": "<div id=\"singlestore-header\" style=\"display: flex; background-color: rgba(209, 153, 255, 0.25); padding: 5px;\">\n    <div id=\"icon-image\" style=\"width: 90px; height: 90px;\">\n        <img width=\"100%\" height=\"100%\" src=\"https://raw.githubusercontent.com/singlestore-labs/spaces-notebooks/master/common/images/header-icons/face-viewfinder.png\" />\n    </div>\n    <div id=\"text\" style=\"padding: 5px; margin-left: 10px;\">\n        <div id=\"badge\" style=\"display: inline-block; background-color: rgba(0, 0, 0, 0.15); border-radius: 4px; padding: 4px 8px; align-items: center; margin-top: 6px; margin-bottom: -2px; font-size: 80%\">SingleStore Notebooks</div>\n        <h1 style=\"font-weight: 500; margin: 8px 0 0 4px;\">Image Matching with SQL</h1>\n    </div>\n</div>"
    },
    {
      "cell_type": "markdown",
      "id": "7b2bd61f-bdc4-4aef-9ab3-feeb8a0138d3",
      "metadata": {},
      "source": "**SingleStoreDB can supercharge your apps with AI!**\n\nIn this notebook, we\u2019ll demonstrate how we use the [`dot_product`](https://docs.singlestore.com/db/v8.1/en/reference/sql-reference/vector-functions/dot_product.html) function (for cosine similarity) to find a matching image of a celebrity from among 7 thousand records in just 3 milliseconds!\n\nEfficient retrieval of high-dimensional vectors and handling of large-scale vector similarity matching workloads are made possible by SingleStore\u2019s distributed architecture and efficient low-level execution. SingleStoreDB powers many AI applications including face matching, product photo matching, object recognition, text similarity matching, and sentiment analysis. "
    },
    {
      "cell_type": "markdown",
      "id": "b21735c2-31ad-4e38-9a5f-afae2c46de38",
      "metadata": {},
      "source": "<div style=\"text-align: center\">\n<img src=\"https://raw.githubusercontent.com/singlestore-labs/spaces-notebooks/master/notebooks/image-matching-with-sql/images/emma-thompson.png\" width=\"500\"/>\n</div>"
    },
    {
      "cell_type": "markdown",
      "id": "facd7889-eaed-44f8-ba7c-ac852c26e9f3",
      "metadata": {},
      "source": "## 1. Create a workspace in your workspace group\n\nS-00 is sufficient.\n\n## 2. Create a Database named image_recognition\n\nThe code below will drop the current `image_recognition` database and create a fresh one."
    },
    {
      "cell_type": "code",
      "execution_count": null,
      "id": "0ee1fb52-14ee-48cc-880c-d525a7d84988",
      "metadata": {
        "language": "sql"
      },
      "outputs": [],
      "source": "DROP DATABASE IF EXISTS image_recognition;\n\nCREATE DATABASE image_recognition;"
    },
    {
      "cell_type": "markdown",
      "id": "899100f0-bac6-4e56-a1e3-eaf5ba32d345",
      "metadata": {},
      "source": "<div class=\"alert alert-block alert-warning\">\n    <b class=\"fa fa-solid fa-exclamation-circle\"></b>\n    <div>\n        <p><b>Action Required</b></p>\n        <p>Make sure to select the <tt>image_recognition</tt> database from the drop-down menu at the top of this notebook.\n        It updates the <tt>connection_url</tt> which is used by SQLAlchemy to make connections to the selected database.</p>\n    </div>\n</div>"
    },
    {
      "cell_type": "markdown",
      "id": "278053e8-7457-4655-a6fe-5c95ecb361de",
      "metadata": {},
      "source": "## 3. Install and import the following libraries\n\nThis will take approximately 40 seconds. We are using the `--quiet` option of `pip` here to keep\nthe log messages from filling the output. You can remove that option if you want to see\nthe installation process. \n\nYou may see messages printed about not being able to find cuda drivers or TensorRT. These can\nbe ignored."
    },
    {
      "cell_type": "code",
      "execution_count": null,
      "id": "4a58d896-5ea9-4335-8cfe-18de418ba2de",
      "metadata": {},
      "outputs": [],
      "source": "!pip3 install boto3 matplotlib tensorflow opencv-python-headless --quiet\n\nimport json\nimport os\nimport random\nimport urllib.request\n\nimport boto3\nimport cv2\nimport botocore.exceptions\nimport ipywidgets as widgets\nimport tensorflow.compat.v1 as tf\nimport matplotlib.pyplot as plt\nimport numpy as np\nimport pandas as pd\nimport requests\nimport singlestoredb as s2\nimport tensorflow.compat.v1 as tf\nfrom botocore import UNSIGNED\nfrom botocore.client import Config\n\ntf.compat.v1.logging.set_verbosity(tf.compat.v1.logging.ERROR)\ntf.disable_v2_behavior()"
    },
    {
      "cell_type": "markdown",
      "id": "3bb47d4f-d54d-4fcc-835e-6a5066fa84bc",
      "metadata": {},
      "source": "## 4. Create a table of images of people\n\nThe table will contain two columns: 1) the filename containing the image and 2) the vector embedding\nof the image as a blob containing an array of 32-bit floats."
    },
    {
      "cell_type": "code",
      "execution_count": null,
      "id": "b115b516-df6d-4100-aacc-c49c50a91819",
      "metadata": {
        "language": "sql"
      },
      "outputs": [],
      "source": "CREATE TABLE people (\n    filename VARCHAR(255), \n    vector BLOB, \n    SHARD(filename)\n);"
    },
    {
      "cell_type": "markdown",
      "id": "41a990db-9e11-48e3-8011-8bd9770a27a2",
      "metadata": {},
      "source": "## 5. Import our sample dataset into the table\n\n**This dataset has 7000 vector embeddings of celebrities!**\n\nNote that we are using the `converters=` parameter of `pd.read_csv` to parse the text as a JSON array and convert it\nto a numpy array for the resulting DataFrame column."
    },
    {
      "cell_type": "code",
      "execution_count": null,
      "id": "d1fb9284-f64e-49c3-acf8-d01f7a0d7e81",
      "metadata": {},
      "outputs": [],
      "source": "url = 'https://raw.githubusercontent.com/singlestore-labs/singlestoredb-samples/main/' + \\\n      'Tutorials/Face%20matching/celebrity_data.sql'"
    },
    {
      "cell_type": "code",
      "execution_count": null,
      "id": "5fe33107-3e46-49f8-9450-4cac14501a34",
      "metadata": {},
      "outputs": [],
      "source": "def json_to_numpy_array(x: str | None) -> np.ndarray | None:\n    \"\"\"Convert JSON array string to numpy array.\"\"\"\n    return np.array(json.loads(x), dtype='f4') if x else None\n\n\n# Read data into DataFrame\ndf = pd.read_csv(url, sep='\"', usecols=[1, 3], names=['filename', 'vector'], \n                 converters=dict(vector=json_to_numpy_array))\n\n# Create database connection\ndb_connection = s2.create_engine().connect()\n\n# Upload DataFrame\ndf.to_sql('people', con=db_connection, index=False, if_exists='append')"
    },
    {
      "cell_type": "markdown",
      "id": "168be056-17da-4f94-8252-3e5d79459a8b",
      "metadata": {},
      "source": "## 6. Run our image matching algorithm using just 2 lines of SQL\n\nIn this example, we use an image of Adam Sandler and find the 5 closest images in our database to it. We use the `dot_product` function to measure cosine_similarity of each vector in the database to the input image. "
    },
    {
      "cell_type": "code",
      "execution_count": null,
      "id": "b26fd8fe-a90d-47c5-9cd1-63def15e2eac",
      "metadata": {
        "language": "sql"
      },
      "outputs": [],
      "source": "SET @v = (SELECT vector FROM people WHERE filename = \"Adam_Sandler/Adam_Sandler_0003.jpg\");\nSELECT filename, DOT_PRODUCT(vector, @v) AS score FROM people ORDER BY score DESC LIMIT 5;"
    },
    {
      "cell_type": "markdown",
      "id": "1d0606a8-6503-4522-8a85-6366263e4b5e",
      "metadata": {},
      "source": "## 7. Pick an image of a celebrity and see which images matched closest to it!\n\n1. Run the code cell\n2. Pick a celebrity picture\n3. Wait for the match!"
    },
    {
      "cell_type": "code",
      "execution_count": null,
      "id": "6b4d75e4-38b5-491d-a77c-35f949ef4ca4",
      "metadata": {},
      "outputs": [],
      "source": "s3 = boto3.resource('s3', region_name='us-east-1', config=Config(signature_version=UNSIGNED))\nbucket = s3.Bucket('studiotutorials')\nprefix = 'face_matching/'\n\npeoplenames = %sql SELECT filename FROM people ORDER BY filename;\n\nnames = [x[0] for x in peoplenames]\n\nout = widgets.Output(layout={'border': '1px solid black'})\n\ndef on_value_change(change: widgets.Output) -> None:\n    \"\"\"Handle a value change event on a drop-down menu.\"\"\"\n    with out:\n        out.clear_output();\n        selected_name = change.new\n        countdb = %sql SELECT COUNT(*) FROM people WHERE filename = '{{selected_name}}';\n        \n        if int(countdb[-1][0]) > 0: \n            %sql SET @v = (SELECT vector FROM people WHERE filename = '{{selected_name}}');\n            result = %sql SELECT filename, DOT_PRODUCT(vector, @v) AS score FROM people ORDER BY score DESC LIMIT 5;\n            original = \"original.jpg\"\n            images = []\n            matches = []\n            try:\n                bucket.download_file(prefix + selected_name, original)\n                images.append(original)\n            except botocore.exceptions.ClientError as e:\n                if e.response['Error']['Code'] == \"404\":\n                    bucket.download_file(prefix + \"error.jpg\", original)\n                else:\n                    raise\n            cnt = 0\n            for res in result:\n                print(res)\n                temp_file = \"match\" + str(cnt) + \".jpg\"\n                images.append(temp_file)\n                matches.append(res[1])\n                try:\n                    bucket.download_file(prefix + res[0], temp_file)\n                except botocore.exceptions.ClientError as e:\n                    if e.response['Error']['Code'] == \"404\":\n                        bucket.download_file(prefix + \"error.jpg\", temp_file)\n                    else:\n                        raise\n                cnt += 1\n            fig, axes = plt.subplots(nrows=1, ncols=6, figsize=(40, 40))\n            for i in range(6):\n                axes[i].imshow(plt.imread(images[i]))\n                axes[i].set_xticks([])\n                axes[i].set_yticks([])\n                axes[i].set_xlabel('')\n                axes[i].set_ylabel('')\n                if i == 0:\n                  axes[i].set_title(\"Original Image\", fontsize=14)\n                else:\n                  axes[i].set_title(\"Match \" + str(i) + \". Score: \" + str(matches[i-1]), fontsize=14)\n            plt.show()\n        else:\n              print(\"No match for this image as it was not inserted into the People Table\")\n\ndropdown = widgets.Dropdown(\n    options=names,\n    description='Select an Image:',\n    placeholder='Select an Image!',\n    style={'description_width': 'initial'},\n    layout={'width': 'max-content'}\n)\n\ndisplay(dropdown)\ndropdown.observe(on_value_change, names='value')\ndisplay(out)"
    },
    {
      "cell_type": "markdown",
      "id": "cea04465-6a69-42f1-8249-4c49488506f6",
      "metadata": {},
      "source": "## 8. See which celebrity you look most like! \n\nIn this step, you'll need to upload a picture of yourself.\nNote that your image MUST be at least 160x160 pixels. Head-shots and zoomed-in photos work better as we don't preprocess the image to just isolate the facial context! We only have 7,000 pictures so matching might be limited.\n\n1. Run the code cell\n2. Upload your picture\n3. Wait for the match!\n\n**A low score for matching is less than 0.6.**"
    },
    {
      "cell_type": "code",
      "execution_count": null,
      "id": "985fdb94-38fd-42c9-aaff-16620db0e954",
      "metadata": {},
      "outputs": [],
      "source": "def prewhiten(x: np.ndarray) -> np.ndarray:\n    \"\"\"Prewhiten image data.\"\"\"\n    mean = np.mean(x)\n    std = np.std(x)\n    std_adj = np.maximum(std, 1.0 / np.sqrt(x.size))\n    y = np.multiply(np.subtract(x, mean), 1 / std_adj)\n    return y\n\n\ndef crop(image: np.ndarray, random_crop: bool, image_size: int) -> np.ndarray:\n    \"\"\"Crop an image to a given size.\"\"\"\n    if image.shape[1] > image_size:\n        sz1 = int(image.shape[1] // 2)\n        sz2 = int(image_size // 2)\n        if random_crop:\n            diff = sz1 - sz2\n            (h, v) = (np.random.randint(-diff, diff + 1), np.random.randint(-diff, diff + 1))\n        else:\n            (h, v) = (0, 0)\n        image = image[(sz1 - sz2 + v):(sz1 + sz2 + v), (sz1 - sz2 + h):(sz1 + sz2 + h), :]\n    return image\n\n\ndef flip(image: np.ndarray, random_flip: bool) -> np.ndarray:\n    \"\"\"Flip the image data left-to-right.\"\"\"\n    if random_flip and np.random.choice([True, False]):\n        image = np.fliplr(image)\n    return image\n\n\ndef load_data(\n    image_paths: list[str],\n    do_random_crop: bool,\n    do_random_flip: bool,\n    image_size: int,\n    do_prewhiten: bool=True,\n) -> np.ndarray:\n    nrof_samples = len(image_paths)\n    images = np.zeros((nrof_samples, image_size, image_size, 3))\n    for i in range(nrof_samples):\n        img = cv2.imread(image_paths[i])\n        if do_prewhiten:\n            img = prewhiten(img)\n        img = crop(img, do_random_crop, image_size)\n        img = flip(img, do_random_flip)\n        images[i, :, :, :] = img\n    return images\n\n\nnew_out= widgets.Output(layout={'border': '1px solid black'})\n\ns3 = boto3.resource('s3', region_name='us-east-1', config=Config(signature_version=UNSIGNED))\nbucket = s3.Bucket('studiotutorials')\nprefix = 'face_matching/'\nnames=[]\n\nlocal_folder = './face_matching_models'\nif not os.path.exists(local_folder):\n    os.makedirs(local_folder)   \n\ns3 = boto3.client('s3', region_name='us-east-1', config=Config(signature_version=UNSIGNED))\ns3.download_file('studiotutorials', 'face_matching_models/20170512-110547.pb',\n                 os.path.join(local_folder, '20170512-110547.pb'))\npb_file_path = './face_matching_models/20170512-110547.pb'\n\n# Load the .pb file into a graph\nwith tf.io.gfile.GFile(pb_file_path, 'rb') as f:\n    graph_def = tf.compat.v1.GraphDef()\n    graph_def.ParseFromString(f.read())\n\n\ndef handle_upload(change: widgets.Output) -> None:        \n    with new_out:\n        new_out.clear_output();\n        new_file_name=''\n        \n        # Get the uploaded file\n        uploaded_file = change.new\n        if uploaded_file[0]['name'].lower().endswith(('.png', '.jpg', '.jpeg')):\n            # Do something with the uploaded file\n            file_name = uploaded_file[0]['name']\n            random_number = random.randint(1, 100000000)\n            new_file_name = f\"{file_name.split('.')[0]}_{random_number}.{file_name.split('.')[-1]}\"\n            file_content = uploaded_file[0]['content']\n            with open(new_file_name, 'wb') as f:\n                f.write(file_content)\n            with tf.compat.v1.Session() as sess:\n                sess.graph.as_default()\n                tf.import_graph_def(graph_def, name='')\n                images_placeholder = sess.graph.get_tensor_by_name(\"input:0\")\n                embeddings = sess.graph.get_tensor_by_name(\"embeddings:0\")\n                phase_train_placeholder = tf.get_default_graph().get_tensor_by_name(\"phase_train:0\")\n                phase_train = False\n                img = load_data([new_file_name], False, False, 160)\n                feed_dict = {\n                    images_placeholder: img,         \n                    phase_train_placeholder: phase_train,\n                }\n                embeddings_ = sess.run(embeddings, feed_dict=feed_dict)\n                embeddings_list = [float(x) for x in embeddings_[0]]\n                embeddings_json = json.dumps(embeddings_list)\n                %sql insert into people values('{{new_file_name}}', json_array_pack_f32(\"{{embddings_json}}\"));\n        else:\n            print(\"Upload a .png, .jpg or .jpeg image\")\n        \n        num_matches = 5\n        countdb = %sql SELECT COUNT(*) FROM people WHERE filename = '{{new_file_name}}';\n\n        if int(countdb[-1][0]) > 0: \n            %sql SET @v = (SELECT vector FROM people WHERE filename = '{{new_file_name}}');\n            result = %sql SELECT filename, DOT_PRODUCT(vector, @v) AS score FROM people ORDER BY score DESC LIMIT 5;\n            images = []\n            matches = []\n            images.append(new_file_name)\n            cnt = 0\n            for res in result:\n                print(res)\n                if (cnt == 0):\n                    temp_file = new_file_name\n                else:\n                    temp_file = \"match\" + str(cnt) + \".jpg\"\n                    try:\n                        bucket.download_file(prefix + res[0], temp_file)\n                    except botocore.exceptions.ClientError as e:\n                        if e.response['Error']['Code'] == \"404\":\n                            bucket.download_file(prefix + \"error.jpg\", temp_file)\n                        else:\n                            raise\n                images.append(temp_file)\n                matches.append(res[1])\n                cnt += 1\n            fig, axes = plt.subplots(nrows=1, ncols=num_matches+1, figsize=(40, 40))\n            %sql DELETE FROM people WHERE filename = '{{new_file_name}}';\n            for i in range(num_matches+1):\n                axes[i].imshow(plt.imread(images[i]))\n                axes[i].set_xticks([])\n                axes[i].set_yticks([])\n                axes[i].set_xlabel('')\n                axes[i].set_ylabel('')\n                if i == 0:\n                  axes[i].set_title(\"Original Image\", fontsize=14)\n                else:\n                  axes[i].set_title(\"Match \" + str(i) + \". Score: \" + str(matches[i-1]), fontsize=14)\n            plt.show()\n        else:\n            print(\"No match for this image as it was not inserted into the People Database\")\n\nupload_button = widgets.FileUpload()\ndisplay(upload_button)\nupload_button.observe(handle_upload, names='value')\ndisplay(new_out)"
    },
    {
      "cell_type": "markdown",
      "id": "f3f3c685-0335-46e2-9a8d-e46ec296f074",
      "metadata": {},
      "source": "## 9. Clean up"
    },
    {
      "cell_type": "code",
      "execution_count": null,
      "id": "51614d50-1e1f-4fe5-ab8d-09c804619edb",
      "metadata": {
        "language": "sql"
      },
      "outputs": [],
      "source": "DROP DATABASE image_recognition;"
    },
    {
      "cell_type": "markdown",
      "id": "83729541-f1c7-4d12-8162-e82a3ea991a1",
      "metadata": {},
      "source": "<div id=\"singlestore-footer\" style=\"background-color: rgba(194, 193, 199, 0.25); height:2px; margin-bottom:10px\"></div>\n<div><img src=\"https://raw.githubusercontent.com/singlestore-labs/spaces-notebooks/master/common/images/singlestore-logo-grey.png\" style=\"padding: 0px; margin: 0px; height: 24px\"/></div>"
    }
  ],
  "metadata": {
    "kernelspec": {
      "display_name": "Python 3 (ipykernel)",
      "language": "python",
      "name": "python3"
    },
    "language_info": {
      "codemirror_mode": {
        "name": "ipython",
        "version": 3
      },
      "file_extension": ".py",
      "mimetype": "text/x-python",
      "name": "python",
      "nbconvert_exporter": "python",
      "pygments_lexer": "ipython3",
      "version": "3.11.4"
    }
  },
  "nbformat": 4,
  "nbformat_minor": 5
}
