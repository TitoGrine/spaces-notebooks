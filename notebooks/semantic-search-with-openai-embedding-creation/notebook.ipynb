{
  "cells": [
    {
      "cell_type": "markdown",
      "id": "8e19358e-22e8-406c-ae17-d916db889313",
      "metadata": {},
      "source": "<div id=\"singlestore-header\" style=\"display: flex; background-color: rgba(210, 255, 153, 0.25); padding: 5px;\">\n    <div id=\"icon-image\" style=\"width: 90px; height: 90px;\">\n        <img width=\"100%\" height=\"100%\" src=\"https://raw.githubusercontent.com/singlestore-labs/spaces-notebooks/master/common/images/header-icons/chart-network.png\" />\n    </div>\n    <div id=\"text\" style=\"padding: 5px; margin-left: 10px;\">\n        <div id=\"badge\" style=\"display: inline-block; background-color: rgba(0, 0, 0, 0.15); border-radius: 4px; padding: 4px 8px; align-items: center; margin-top: 6px; margin-bottom: -2px; font-size: 80%\">SingleStore Notebooks</div>\n        <h1 style=\"font-weight: 500; margin: 8px 0 0 4px;\">Semantic Search with OpenAI Embedding Creation</h1>\n    </div>\n</div>"
    },
    {
      "cell_type": "markdown",
      "id": "9bebf253-7913-4d7a-8ebc-f10463803baa",
      "metadata": {},
      "source": "In this notebook, we will demonstrate an example of conducting semantic search on SingleStoreDB with SQL! Unlike traditional keyword-based search methods, semantic search algorithms take into account the relationships between words and their meanings, enabling them to deliver more accurate and relevant results \u2013 even when search terms are vague or ambiguous. \n\nSingleStoreDB\u2019s built-in parallelization and Intel SIMD-based vector processing takes care of the heavy lifting involved in processing vector data. This allows your to run your ML algorithms right in your database extremely efficiently with just 2 lines of SQL!\n\n\nIn this example, we use Open AI embeddings API to create embeddings for our dataset and run semantic_search using dot_product vector matching function!"
    },
    {
      "cell_type": "markdown",
      "id": "358d1eb0-a0dd-423d-86ea-0d131abe4169",
      "metadata": {},
      "source": "## 1. Create a workspace in your workspace group\n\nS-00 is sufficient.\n\n## 2. Create a Database named `semantic_search`"
    },
    {
      "cell_type": "code",
      "execution_count": null,
      "id": "af5e02fb-e15b-4c85-ac69-a40dd974cd88",
      "metadata": {
        "language": "sql"
      },
      "outputs": [],
      "source": "DROP DATABASE IF EXISTS semantic_search;\n\nCREATE DATABASE semantic_search;"
    },
    {
      "cell_type": "markdown",
      "id": "284f2bdc-a428-4a55-9f1f-fce623914b34",
      "metadata": {},
      "source": "<div class=\"alert alert-block alert-warning\">\n    <b class=\"fa fa-solid fa-exclamation-circle\"></b>\n    <div>\n        <p><b>Action Required</b></p>\n        <p>Make sure to select the <tt>semantic_search</tt> database from the drop-down menu at the top of this notebook.\n        It updates the <tt>connection_url</tt> which is used by SQLAlchemy to make connections to the selected database.</p>\n    </div>\n</div>"
    },
    {
      "cell_type": "markdown",
      "id": "8124ab1c-7f17-47bc-9f8a-c7bd5a33a426",
      "metadata": {},
      "source": "## 3. Install and import required libraries\n\nWe will use the OpenAI embeddings API and will need to import the relevant dependencies accordingly. "
    },
    {
      "cell_type": "code",
      "execution_count": null,
      "id": "af6146b2-a044-4dd8-b020-e3d8c1f91aba",
      "metadata": {},
      "outputs": [],
      "source": "!pip3 install openai matplotlib plotly pandas scipy scikit-learn requests --quiet\n\nimport json\nimport os\n\nimport openai\nimport requests\nfrom openai.embeddings_utils import get_embedding"
    },
    {
      "cell_type": "markdown",
      "id": "f80d23bc-7e98-4ac8-b2a0-7a737e4010e5",
      "metadata": {},
      "source": "## 4. Create an OpenAI account and get API connection details\n\nTo vectorize and embed the employee reviews and query strings, we leverage OpenAI's embeddings API. To use this API, you will need an API key, which you can get [here](https://platform.openai.com/account/api-keys). You'll need to add a payment method to actually get vector embeddings using the API, though the charges are minimal for a small example like we present here."
    },
    {
      "cell_type": "markdown",
      "id": "22de8d4c-6b79-4496-8812-37e0b82e980b",
      "metadata": {},
      "source": "<div class=\"alert alert-block alert-warning\">\n    <b class=\"fa fa-solid fa-exclamation-circle\"></b>\n    <div>\n        <p><b>Action Required</b></p>\n        <p>You will have to update your notebook's firewall settings to include <tt>*.*.openai.com</tt> in order to get embedddings from OpenAI APIS.</p>\n    </div>\n</div>"
    },
    {
      "cell_type": "code",
      "execution_count": null,
      "id": "a463c0fd-c747-4605-a728-c22a2fa17cfb",
      "metadata": {},
      "outputs": [],
      "source": "openai.api_key = '<OPEN_AI_API_KEY>'"
    },
    {
      "cell_type": "markdown",
      "id": "17fb3aad-e3a8-4a2a-985c-64f0c94431b8",
      "metadata": {},
      "source": "## 5. Create a new table in your database called reviews"
    },
    {
      "cell_type": "code",
      "execution_count": null,
      "id": "e3af3810-0ce5-432b-a879-4eaa16524d38",
      "metadata": {
        "language": "sql"
      },
      "outputs": [],
      "source": "CREATE TABLE reviews (\n    date_review VARCHAR(255), \n    job_title VARCHAR(255), \n    location VARCHAR(255), \n    review TEXT\n);"
    },
    {
      "cell_type": "markdown",
      "id": "db124797-a11c-4a97-9f58-b337c50014e3",
      "metadata": {},
      "source": "## 6. Import our sample data into your table\n\nThis dataset has 15 reviews left by anonymous employees of a firm."
    },
    {
      "cell_type": "code",
      "execution_count": null,
      "id": "bce5a7cb-ad4f-4293-8bc3-9d09f76ae5e8",
      "metadata": {},
      "outputs": [],
      "source": "url = 'https://raw.githubusercontent.com/singlestore-labs/singlestoredb-samples/main/' + \\\n      'Tutorials/ai-powered-semantic-search/hr_sample_data.sql'"
    },
    {
      "cell_type": "markdown",
      "id": "7ddec245-7c79-40ea-85b2-7a88e25e5321",
      "metadata": {},
      "source": "Note that we are using the `%sql` magic command here to run a query against the currently\nselected database."
    },
    {
      "cell_type": "code",
      "execution_count": null,
      "id": "227c2fcf-2dc8-4ed2-92f1-5a28667bf3d3",
      "metadata": {},
      "outputs": [],
      "source": "for query in [x for x in requests.get(url).text.split('\\n') if x.strip()]:\n     %sql {{query}}"
    },
    {
      "cell_type": "markdown",
      "id": "8188ccb2-d5cf-48b5-8c9f-8b3858c18ae7",
      "metadata": {},
      "source": "## 7. Add vector embeddings for each review\n\nTo embed the reviews in our SingleStoreDB database, we iterate through each row in the table, make a call to OpenAI\u2019s embeddings API with the text in the reviews field and update the new column called embeddings for each entry. "
    },
    {
      "cell_type": "code",
      "execution_count": null,
      "id": "419a690a-810c-4c80-b7ea-fd25cf1d5e80",
      "metadata": {},
      "outputs": [],
      "source": "%sql ALTER TABLE reviews ADD embeddings BLOB;\n\nreviews = %sql SELECT review FROM reviews;\n\nfor i in reviews:\n    review_embedding = json.dumps(get_embedding(i[0], engine=\"text-embedding-ada-002\"))\n    %sql UPDATE reviews SET embeddings = JSON_ARRAY_PACK('{{review_embedding}}') WHERE review='{{i[0]}}';"
    },
    {
      "cell_type": "markdown",
      "id": "e34e62fb-7690-4a31-a874-ff7856d16cc7",
      "metadata": {},
      "source": "## 8. Run the semantic search algorithm with just one line of SQL\n\nWe will utilize SingleStoreDB's distributed architecture to efficiently compute the dot product of the input string (stored in searchstring) with each entry in the database and return the top 5  reviews with the highest dot product score. Each vector is normalized to length 1, hence the dot product function essentially computes the cosine similarity between two vectors \u2013 an appropriate nearness metric. SingleStoreDB makes this extremely fast because it compiles queries to machine code and runs dot_product using SIMD instructions."
    },
    {
      "cell_type": "code",
      "execution_count": null,
      "id": "08bd6b1c-9731-4062-9b9a-a5e1a1d8efa3",
      "metadata": {},
      "outputs": [],
      "source": "searchstring = input(\"Please enter a search string: \")\n\nsearch_embedding = json.dumps(get_embedding(searchstring, engine=\"text-embedding-ada-002\")) \n\nresults = %sql SELECT review, DOT_PRODUCT(embeddings, JSON_ARRAY_PACK('{{search_embedding}}')) AS Score FROM reviews ORDER BY Score DESC LIMIT 5;\n\nfor i, res in enumerate(results):\n    print(f'{i + 1}: {res[0]} Score: {res[1]}')"
    },
    {
      "cell_type": "markdown",
      "id": "0383939d-7fd3-434d-a27b-952eeed40e5f",
      "metadata": {},
      "source": "## 9. Clean up"
    },
    {
      "cell_type": "code",
      "execution_count": null,
      "id": "0e91592f-4856-4cab-b15e-23585f551ab3",
      "metadata": {
        "language": "sql"
      },
      "outputs": [],
      "source": "DROP DATABASE semantic_search;"
    },
    {
      "cell_type": "markdown",
      "id": "a6829f66-b37e-493d-9631-6da519140485",
      "metadata": {},
      "source": "<div id=\"singlestore-footer\" style=\"background-color: rgba(194, 193, 199, 0.25); height:2px; margin-bottom:10px\"></div>\n<div><img src=\"https://raw.githubusercontent.com/singlestore-labs/spaces-notebooks/master/common/images/singlestore-logo-grey.png\" style=\"padding: 0px; margin: 0px; height: 24px\"/></div>"
    }
  ],
  "metadata": {
    "kernelspec": {
      "display_name": "Python 3 (ipykernel)",
      "language": "python",
      "name": "python3"
    },
    "language_info": {
      "codemirror_mode": {
        "name": "ipython",
        "version": 3
      },
      "file_extension": ".py",
      "mimetype": "text/x-python",
      "name": "python",
      "nbconvert_exporter": "python",
      "pygments_lexer": "ipython3",
      "version": "3.11.4"
    }
  },
  "nbformat": 4,
  "nbformat_minor": 5
}
