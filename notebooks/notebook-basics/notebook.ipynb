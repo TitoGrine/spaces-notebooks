{
  "cells": [
    {
      "cell_type": "markdown",
      "id": "7e127046-57ff-4259-88eb-94596d9b4c6c",
      "metadata": {},
      "source": "<div id=\"singlestore-header\" style=\"display: flex; background-color: rgba(209, 153, 255, 0.25); padding: 5px;\">\n    <div id=\"icon-image\" style=\"width: 90px; height: 90px;\">\n        <img width=\"100%\" height=\"100%\" src=\"https://raw.githubusercontent.com/singlestore-labs/spaces-notebooks/master/common/images/header-icons/notes.png\" />\n    </div>\n    <div id=\"text\" style=\"padding: 5px; margin-left: 10px;\">\n        <div id=\"badge\" style=\"display: inline-block; background-color: rgba(0, 0, 0, 0.15); border-radius: 4px; padding: 4px 8px; align-items: center; margin-top: 6px; margin-bottom: -2px; font-size: 80%\">SingleStore Notebooks</div>\n        <h1 style=\"font-weight: 500; margin: 8px 0 0 4px;\">SingleStoreDB Notebook Basics</h1>\n    </div>\n</div>"
    },
    {
      "cell_type": "markdown",
      "id": "680677eb-d3b7-460a-8ac2-94e9a68c8f43",
      "metadata": {},
      "source": "Prototyping applications or analyzing datasets using notebooks in SingleStoreDB Cloud follows the same general principles as developing with a Jupyter Notebook. SingleStoreDB Cloud supports internal and external datasources. Internal datasources are databases that exist within your workspace. An external datasource could be an AWS S3 bucket for example. In this Notebook we cover:\n\n1. Connecting to a SingleStoreDB instance\n2. Connecting to an external datasource including firewall Settings\n3. Using SQL in a cell\n4. Using Python in a cell\n5. Using both SQL & Python\n6. Installing Libraries\n7. Using Magic Commands \n\n*To learn more about working with SingleStoreDB notebooks check out our [docs](https://docs.singlestore.com/managed-service/en/developer-resources/notebooks.html)!*"
    },
    {
      "cell_type": "markdown",
      "id": "cb310396-93ad-4c04-b64d-9601b8a202bc",
      "metadata": {},
      "source": "## 1. Connecting to SingleStoreDB\n\nOnce you select a workspace, you can access all of the databases attached to that workspace. You cannot connect to databases that are not attached to the workspace you are using."
    },
    {
      "cell_type": "markdown",
      "id": "8c502a67-9e8e-43b8-8bc6-41df4d5835da",
      "metadata": {},
      "source": "First select a workspace and the `information_schema` database from the drop-down menu at the top of this notebook.\n\n<img src=https://raw.githubusercontent.com/singlestore-labs/spaces-notebooks/master/notebooks/notebook-basics/images/select-workspace-and-database.png style=\"width: 500px; border: 1px solid darkorchid\"/>"
    },
    {
      "cell_type": "markdown",
      "id": "886169b5-d60f-4669-9d34-20c14e9aba40",
      "metadata": {},
      "source": "With the database selected, the `connection_url` variable in the Python enviroment is now updated with that information\nand we can write in a SQL cell to query the selected database."
    },
    {
      "cell_type": "code",
      "execution_count": null,
      "id": "146c9641-23ec-4570-8466-14d2880c66f0",
      "metadata": {
        "language": "sql"
      },
      "outputs": [],
      "source": "SELECT * FROM users\n    LIMIT 3;"
    },
    {
      "cell_type": "markdown",
      "id": "8cb9cb0f-c301-4cef-9f19-e86db0e52f73",
      "metadata": {},
      "source": "When running SQL commands against a different database explicitly, you can specify the database in your \nSQL code with the `USE` command:"
    },
    {
      "cell_type": "code",
      "execution_count": null,
      "id": "22b88c07-c956-4a77-944d-4aac485c1514",
      "metadata": {
        "language": "sql",
        "execution": {}
      },
      "outputs": [],
      "source": "USE information_schema;\n\nSELECT * FROM users\n    LIMIT 3;"
    },
    {
      "cell_type": "markdown",
      "id": "e8b06918-25d2-40e6-9ad9-3e8c558e89e9",
      "metadata": {},
      "source": "Alternatively, you can specify the database prefix on the table in the query itself."
    },
    {
      "cell_type": "code",
      "execution_count": null,
      "id": "8ab697a9-3b41-4f92-8b88-65717d7a4202",
      "metadata": {
        "language": "sql"
      },
      "outputs": [],
      "source": "SELECT * FROM information_schema.users\n    LIMIT 3;"
    },
    {
      "cell_type": "markdown",
      "id": "3aff8361-669b-474d-a45a-6345de985757",
      "metadata": {},
      "source": "## Connecting with SQLAlchemy"
    },
    {
      "cell_type": "markdown",
      "id": "c21cdbb8-c77e-4e31-a584-ff922620fb58",
      "metadata": {},
      "source": "You can also connect to your SingleStoreDB datasource using Python and SQLAlchemy. As mentioned above, \nthe `connection_url` variable is automatically populated by the notebook environment when selecting a\ndatabase in the drop-down menu at the top of the notebook."
    },
    {
      "cell_type": "code",
      "execution_count": null,
      "id": "3e2781f6-626d-4f0d-a5bb-828537c9e6e1",
      "metadata": {},
      "outputs": [],
      "source": "import sqlalchemy as sa\n\ndb_connection = sa.create_engine(connection_url).connect()"
    },
    {
      "cell_type": "markdown",
      "id": "1cae1a31-08c6-44b4-99c8-0d0a1b8b5ff8",
      "metadata": {},
      "source": "You can also explicitly define a URL using the individual connection components."
    },
    {
      "cell_type": "code",
      "execution_count": null,
      "id": "93f26bcd-d07d-48a9-9f7a-edc2f9431c09",
      "metadata": {},
      "outputs": [],
      "source": "database_name = \"information_schema\"\n\nconnection_url2 = f\"singlestoredb://{connection_user}:{connection_password}@{connection_host}:{connection_port}/{database_name}\"\n\ndb_connection2 = sa.create_engine(connection_url2).connect()"
    },
    {
      "cell_type": "markdown",
      "id": "082e240d-9480-46a2-a7da-33508423b8e9",
      "metadata": {},
      "source": "In addition, the SingleStoreDB Python package includes a wrapper `create_engine` function that \nuses the `SINGLESTOREDB_URL` without having to specify `connection_url`."
    },
    {
      "cell_type": "code",
      "execution_count": null,
      "id": "4ec8e9a0-b45a-4f6f-b3a5-7b51a5a89ed0",
      "metadata": {},
      "outputs": [],
      "source": "import singlestoredb as s2\n\ndb_connection = s2.create_engine().connect()"
    },
    {
      "cell_type": "markdown",
      "id": "2dbc2854-2396-49e0-ae9f-5e68cc1e316c",
      "metadata": {},
      "source": "Using db_connection, we can run our queries much like in a SQL cell."
    },
    {
      "cell_type": "code",
      "execution_count": null,
      "id": "cb22f3b0-547a-471b-80d3-213b38f41121",
      "metadata": {},
      "outputs": [],
      "source": "query1 = 'SELECT * FROM users LIMIT 3;'\n\nfor row in db_connection2.execute(query1):\n    print(row)"
    },
    {
      "cell_type": "markdown",
      "id": "1a15dcbc-4a03-49c2-ae18-130d97fb03e9",
      "metadata": {},
      "source": "# 2. Connecting to an external datasource\n\nYou can securely connect to external endpoints from your SingleStoreDB notebooks. By default, connections are limited to SingleStoreDB databases; however, you can enable and disable connections to other external endpoints via the allowlist. To add or remove endpoints from the allowlist:\n\n1. Select Edit Firewall at the top-left of this notebook.\n\n<img src=\"https://raw.githubusercontent.com/singlestore-labs/spaces-notebooks/master/notebooks/notebook-basics/images/edit-firewall.png\" style=\"width: 200px; border: 1px solid darkorchid\">\n\n2. Select Edit to add new endpoints:\n\n<img src=\"https://raw.githubusercontent.com/singlestore-labs/spaces-notebooks/master/notebooks/notebook-basics/images/new-endpoints.png\" style=\"width: 350px; border: 1px solid darkorchid\">\n\n3. In the Edit Allowlist dialog, you can add a Fully Qualified Domain Name (FQDN) or select from a list of suggested FQDNs (for example `pypi.org` or `github.com`). You can provide wildcard access to an endpoint by using the `*` character. For example, to access an AWS S3 endpoints, you can use the following syntax:  `*.s3.*.amazonaws.com`\n4. Select Save.\n\n<img src=\"https://raw.githubusercontent.com/singlestore-labs/spaces-notebooks/master/notebooks/notebook-basics/images/connect-to-an-external-datasource.png\" style=\"width: 500px; border: 1px solid darkorchid\">"
    },
    {
      "cell_type": "markdown",
      "id": "3eed3310-621f-4c37-9db4-a992980a4f46",
      "metadata": {},
      "source": "# 3. Using SQL\nThe default language for SingleStoreDB Cloud notebooks is Python. However, by selecting SQL in the cell type dropdown, SQL code can be submitted for an entire cell."
    },
    {
      "cell_type": "code",
      "execution_count": null,
      "id": "d82fc6bf-b786-4956-a056-851e746f97b8",
      "metadata": {
        "language": "sql"
      },
      "outputs": [],
      "source": "SELECT * FROM users\n    LIMIT 3;"
    },
    {
      "cell_type": "markdown",
      "id": "eb91c21c-1ce6-4e31-95d1-a981dea630c7",
      "metadata": {},
      "source": "By default, the results are displayed as a table. We can also store the result in a variable for use later in the\nnotebook. The following cell specifies the output variable `result1` which indicates that the output of the SQL code\nshould be stored in the `result1` variable in the Python environment."
    },
    {
      "cell_type": "code",
      "execution_count": null,
      "id": "0a6341cd-0328-4d8a-8158-72aff97b77de",
      "metadata": {
        "language": "sql",
        "output_variable": "result1"
      },
      "outputs": [],
      "source": "SELECT * FROM users\n    LIMIT 3;"
    },
    {
      "cell_type": "markdown",
      "id": "91cf2054-d223-4013-8867-2f4a9494978a",
      "metadata": {},
      "source": "We now have access to the `result1` variable and can convert it to a DataFrame!"
    },
    {
      "cell_type": "code",
      "execution_count": null,
      "id": "5e436bc0-4843-4d0c-b64c-3470d963f29a",
      "metadata": {},
      "outputs": [],
      "source": "import pandas as pd\n\ndf = pd.DataFrame(result1)\ndf"
    },
    {
      "cell_type": "markdown",
      "id": "360b2dc0-038e-4311-a5c3-b497b8feaf57",
      "metadata": {},
      "source": "## 4. Using Python in a code cell\n\nBy default, Python is the language for code cells. In the cell below, we are using a SQLAlchemy connection to execute\nthe same query as the previous example. The result of this query can be converted into a DataFrame in the same manner\nas above"
    },
    {
      "cell_type": "code",
      "execution_count": null,
      "id": "e0085cca-2278-4904-94aa-4e46da840b66",
      "metadata": {},
      "outputs": [],
      "source": "result = db_connection.execute('SELECT * FROM users LIMIT 3;')\n\ndf = pd.DataFrame(result)\ndf"
    },
    {
      "cell_type": "markdown",
      "id": "afb80434-583d-4171-a95b-694ed14bbd98",
      "metadata": {},
      "source": "## 5. Using both SQL & Python in a code cell\n\nWe can use a single line of SQL within a Python cell using a single `%sql` call. Below we combine SQL and \nPython in the same cell to capture the output in the `result` variable. We then convert it to a DataFrame \nas in previous examples."
    },
    {
      "cell_type": "code",
      "execution_count": null,
      "id": "d79f9268-7c76-47cf-bee7-577ce07ae85d",
      "metadata": {},
      "outputs": [],
      "source": "result = %sql SELECT * FROM users LIMIT 3;\n\ndf = pd.DataFrame(result)\ndf"
    },
    {
      "cell_type": "markdown",
      "id": "2b9a3995-32df-4931-8aff-44bcd2db5908",
      "metadata": {},
      "source": "## 6. Preinstalled libraries\n\nBy default, a SingleStoreDB notebook has a large number of preinstalled libraries. Run the cell below to see what libraries are already installed!"
    },
    {
      "cell_type": "code",
      "execution_count": null,
      "id": "abee048d-f18a-4a35-8eae-c8f92939230a",
      "metadata": {},
      "outputs": [],
      "source": "!pip list"
    },
    {
      "cell_type": "markdown",
      "id": "bbc061e3-acb3-40cc-be84-ada979aaa1a5",
      "metadata": {},
      "source": "Our notebooks support libraries available from https://pypi.org/. For example, run the cell below to install the [Kaggle open dataset library](https://pypi.org/project/opendatasets/) to install the `opendatasets` package."
    },
    {
      "cell_type": "code",
      "execution_count": null,
      "id": "e17e1322-33df-4e2f-97fe-9815df235b40",
      "metadata": {},
      "outputs": [],
      "source": "!pip3 install opendatasets"
    },
    {
      "cell_type": "markdown",
      "id": "9c6684da-af62-42bc-9481-b53c75f64b5e",
      "metadata": {},
      "source": "You can even upgrade versions of a preinstalled library. Run the cell below to get the new version of Plotly."
    },
    {
      "cell_type": "code",
      "execution_count": null,
      "id": "5a989a0f-6334-42d9-a75e-a04d09bccbec",
      "metadata": {},
      "outputs": [],
      "source": "!pip3 install plotly --upgrade"
    },
    {
      "cell_type": "markdown",
      "id": "8d69cb4d-58ea-40ae-83db-03ff489d8676",
      "metadata": {},
      "source": "## 7. Magic commands\n\nMagic commands in Jupyter Notebook are special commands that allow you to perform various tasks that are not part of the standard Python language. We have demonstrated one of the included magic commands already: `%sql` for submitting a single query in the context of a Python code cell.\n\nThere are many other magic commands as well for everything from file system access to debugging your Python code.\nFor information about teh full list of magic commands available, run the code cell below."
    },
    {
      "cell_type": "code",
      "execution_count": null,
      "id": "b413bb30-0e9f-4484-8d3e-e7bc724a0c13",
      "metadata": {},
      "outputs": [],
      "source": "%quickref"
    },
    {
      "cell_type": "markdown",
      "id": "0ea02e78-b1e2-4cb4-a6d7-d813fdcb2759",
      "metadata": {},
      "source": "**Learn more about SingleStoreDB notebooks [here](https://docs.singlestore.com/managed-service/en/developer-resources/notebooks.html) and get started with your first notebook!**"
    },
    {
      "cell_type": "markdown",
      "id": "df3c9ee9-ac57-4e84-9201-df635ac7bd36",
      "metadata": {},
      "source": "<div id=\"singlestore-footer\" style=\"background-color: rgba(194, 193, 199, 0.25); height:2px; margin-bottom:10px\"></div>\n<div><img src=\"https://raw.githubusercontent.com/singlestore-labs/spaces-notebooks/master/common/images/singlestore-logo-grey.png\" style=\"padding: 0px; margin: 0px; height: 24px\"/></div>"
    }
  ],
  "metadata": {
    "kernelspec": {
      "display_name": "Python 3 (ipykernel)",
      "language": "python",
      "name": "python3"
    },
    "language_info": {
      "codemirror_mode": {
        "name": "ipython",
        "version": 3
      },
      "file_extension": ".py",
      "mimetype": "text/x-python",
      "name": "python",
      "nbconvert_exporter": "python",
      "pygments_lexer": "ipython3",
      "version": "3.11.4"
    }
  },
  "nbformat": 4,
  "nbformat_minor": 5
}
