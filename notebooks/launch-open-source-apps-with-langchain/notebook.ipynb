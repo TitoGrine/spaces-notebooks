{
  "cells": [
    {
      "cell_type": "markdown",
      "id": "7d9894c5-8938-4790-8acf-44882f2d3391",
      "metadata": {},
      "source": "<div id=\"singlestore-header\" style=\"display: flex; background-color: rgba(209, 153, 255, 0.25); padding: 5px;\">\n    <div id=\"icon-image\" style=\"width: 90px; height: 90px;\">\n        <img width=\"100%\" height=\"100%\" src=\"https://raw.githubusercontent.com/singlestore-labs/spaces-notebooks/master/common/images/header-icons/vector-circle.png\" />\n    </div>\n    <div id=\"text\" style=\"padding: 5px; margin-left: 10px;\">\n        <div id=\"badge\" style=\"display: inline-block; background-color: rgba(0, 0, 0, 0.15); border-radius: 4px; padding: 4px 8px; align-items: center; margin-top: 6px; margin-bottom: -2px; font-size: 80%\">SingleStore Notebooks</div>\n        <h1 style=\"font-weight: 500; margin: 8px 0 0 4px;\">Launch Open-Source Apps with LangChain</h1>\n    </div>\n</div>"
    },
    {
      "cell_type": "code",
      "execution_count": null,
      "id": "be57e1dd-8030-4551-81bb-d25b1017188b",
      "metadata": {},
      "outputs": [],
      "source": "!pip install langchain --quiet\n!pip install openai --quiet\n!pip install pdf2image --quiet\n!pip install tabulate --quiet\n!pip install tiktoken --quiet\n!pip install unstructured --quiet"
    },
    {
      "cell_type": "code",
      "execution_count": null,
      "id": "b21ec610-517c-4fcc-bd19-217b2675c8a9",
      "metadata": {},
      "outputs": [],
      "source": "from langchain.document_loaders import OnlinePDFLoader\n\nloader = OnlinePDFLoader(\"http://leavcom.com/pdf/DBpdf.pdf\")\n\ndata = loader.load()"
    },
    {
      "cell_type": "code",
      "execution_count": null,
      "id": "a40099c8-f859-4707-a3c9-635bbc693806",
      "metadata": {},
      "outputs": [],
      "source": "from langchain.text_splitter import RecursiveCharacterTextSplitter\n\nprint (f\"You have {len(data)} document(s) in your data\")\nprint (f\"There are {len(data[0].page_content)} characters in your document\")"
    },
    {
      "cell_type": "code",
      "execution_count": null,
      "id": "dd303fc1-d02b-460d-a81e-3a313cab1a59",
      "metadata": {},
      "outputs": [],
      "source": "text_splitter = RecursiveCharacterTextSplitter(chunk_size = 2000, chunk_overlap = 0)\ntexts = text_splitter.split_documents(data)\n\nprint (f\"You have {len(texts)} pages\")"
    },
    {
      "cell_type": "code",
      "execution_count": null,
      "id": "5c05e57c-3300-4c1a-867c-383c621f2b94",
      "metadata": {},
      "outputs": [],
      "source": "%%sql\n\nDROP DATABASE IF EXISTS pdf_db;\nCREATE DATABASE IF NOT EXISTS pdf_db;"
    },
    {
      "cell_type": "code",
      "execution_count": null,
      "id": "0d2c027b-883b-4e2b-9594-b5c4cc41af24",
      "metadata": {},
      "outputs": [],
      "source": "%%sql\n\nUSE pdf_db;\nDROP TABLE IF EXISTS pdf_docs1;\nCREATE TABLE IF NOT EXISTS pdf_docs1 (\n    id INT PRIMARY KEY,\n    content TEXT CHARACTER SET utf8mb4 COLLATE utf8mb4_general_ci,\n    vector BLOB\n);"
    },
    {
      "cell_type": "code",
      "execution_count": null,
      "id": "ee2b2b89-859b-4c8b-b653-cc8df62be869",
      "metadata": {},
      "outputs": [],
      "source": "from singlestoredb import create_engine\n\ndb_connection = create_engine().connect()"
    },
    {
      "cell_type": "code",
      "execution_count": null,
      "id": "df0283f6-66fa-4b2e-bf5c-024864896c28",
      "metadata": {},
      "outputs": [],
      "source": "import os\nimport getpass\n\nos.environ[\"OPENAI_API_KEY\"] = getpass.getpass(\"OpenAI API Key:\")"
    },
    {
      "cell_type": "code",
      "execution_count": null,
      "id": "c3709108-1fb7-469a-9f03-970b2f8cd9c3",
      "metadata": {},
      "outputs": [],
      "source": "from langchain.embeddings import OpenAIEmbeddings\n\nembedder = OpenAIEmbeddings()"
    },
    {
      "cell_type": "code",
      "execution_count": null,
      "id": "5b5d8f1c-e9a1-4010-bd77-fc209b52bdb6",
      "metadata": {},
      "outputs": [],
      "source": "for i, document in enumerate(texts):\n    text_content = document.page_content\n\n    embedding = embedder.embed_documents([text_content])[0]\n\n    stmt = \"\"\"\n        INSERT INTO pdf_docs1 (\n            id,\n            content,\n            vector\n        )\n        VALUES (\n            %s,\n            %s,\n            JSON_ARRAY_PACK_F32(%s)\n        )\n    \"\"\"\n\n    db_connection.execute(stmt, (i+1, text_content, str(embedding)))"
    },
    {
      "cell_type": "code",
      "execution_count": null,
      "id": "0226773e-b1eb-4e06-a92e-918c375b15a1",
      "metadata": {},
      "outputs": [],
      "source": "%%sql\n\nUSE pdf_db;\nSELECT JSON_ARRAY_UNPACK_F32(vector)\nFROM pdf_docs1\nLIMIT 1;"
    },
    {
      "cell_type": "code",
      "execution_count": null,
      "id": "5597f268-7dc2-4453-a5b1-e40fb211d0e8",
      "metadata": {},
      "outputs": [],
      "source": "query_text = \"Will object-oriented databases be commercially successful?\"\n\nquery_embedding = embedder.embed_documents([query_text])[0]\n\nstmt = \"\"\"\n    SELECT\n        content,\n        DOT_PRODUCT_F32(JSON_ARRAY_PACK_F32(%s), vector) AS score\n    FROM pdf_docs1\n    ORDER BY score DESC\n    LIMIT 1\n\"\"\"\n\nresults = db_connection.execute(stmt, str(query_embedding))\n\nfor row in results:\n    print(row[0])"
    },
    {
      "cell_type": "code",
      "execution_count": null,
      "id": "a469ffbd-5084-4c5a-b961-a8c908c391ce",
      "metadata": {},
      "outputs": [],
      "source": "import openai\n\nprompt = f\"The user asked: {query_text}. The most similar text from the document is: {row[0]}\"\n\nresponse = openai.ChatCompletion.create(\n    model=\"gpt-3.5-turbo\",\n    messages=[\n        {\"role\": \"system\", \"content\": \"You are a helpful assistant.\"},\n        {\"role\": \"user\", \"content\": prompt}\n    ]\n)\n\nprint(response['choices'][0]['message']['content'])"
    },
    {
      "cell_type": "markdown",
      "id": "f1ce8da7-0868-47fd-8585-4777d26f3adc",
      "metadata": {},
      "source": "<div id=\"singlestore-footer\" style=\"background-color: rgba(194, 193, 199, 0.25); height:2px; margin-bottom:10px\"></div>\n<div><img src=\"https://raw.githubusercontent.com/singlestore-labs/spaces-notebooks/master/common/images/singlestore-logo-grey.png\" style=\"padding: 0px; margin: 0px; height: 24px\"/></div>"
    }
  ],
  "metadata": {
    "jupyterlab": {
      "notebooks": {
        "version_major": 6,
        "version_minor": 4
      }
    },
    "kernelspec": {
      "display_name": "Python 3 (ipykernel)",
      "language": "python",
      "name": "python3"
    },
    "language_info": {
      "codemirror_mode": {
        "name": "ipython",
        "version": 3
      },
      "file_extension": ".py",
      "mimetype": "text/x-python",
      "name": "python",
      "nbconvert_exporter": "python",
      "pygments_lexer": "ipython3",
      "version": "3.11.4"
    }
  },
  "nbformat": 4,
  "nbformat_minor": 5
}
