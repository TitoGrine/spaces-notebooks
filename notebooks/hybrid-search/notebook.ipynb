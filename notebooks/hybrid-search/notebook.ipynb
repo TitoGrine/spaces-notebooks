{
  "cells": [
    {
      "cell_type": "markdown",
      "id": "505a207d-82ee-406d-bb92-e6a6900d6d18",
      "metadata": {},
      "source": "<div id=\"singlestore-header\" style=\"display: flex; background-color: rgba(209, 153, 255, 0.25); padding: 5px;\">\n    <div id=\"icon-image\" style=\"width: 90px; height: 90px;\">\n        <img width=\"100%\" height=\"100%\" src=\"https://raw.githubusercontent.com/singlestore-labs/spaces-notebooks/master/common/images/header-icons/vector-circle.png\" />\n    </div>\n    <div id=\"text\" style=\"padding: 5px; margin-left: 10px;\">\n        <div id=\"badge\" style=\"display: inline-block; background-color: rgba(0, 0, 0, 0.15); border-radius: 4px; padding: 4px 8px; align-items: center; margin-top: 6px; margin-bottom: -2px; font-size: 80%\">SingleStore Notebooks</div>\n        <h1 style=\"font-weight: 500; margin: 8px 0 0 4px;\">Hybrid Search</h1>\n    </div>\n</div>"
    },
    {
      "cell_type": "markdown",
      "id": "f3a978dd",
      "metadata": {},
      "source": ""
    },
    {
      "cell_type": "markdown",
      "id": "d9f9e629-6eb9-4ca5-bcf2-1b8672b86725",
      "metadata": {},
      "source": "*Source*: [OpenAI Cookbook](https://github.com/openai/openai-cookbook/blob/main/examples/data/AG_news_samples.csv)\n\nHybrid search integrates both keyword-based search and semantic search in order to combine the strengths of both and provide users with a more comprehensive and efficient search experience. This notebook is an example on how to perform hybrid search with SingleStore's database and notebooks."
    },
    {
      "cell_type": "markdown",
      "id": "532e8d3f-007d-48a4-8d36-44b561dd1109",
      "metadata": {},
      "source": "## Setup\nLet's first download the libraries necessary."
    },
    {
      "cell_type": "code",
      "execution_count": null,
      "id": "07990b64-9447-46a8-abbc-51be1972dfda",
      "metadata": {},
      "outputs": [],
      "source": "!pip install matplotlib --quiet\n!pip install plotly.express --quiet\n!pip install scikit-learn --quiet\n!pip install tabulate --quiet\n!pip install tiktoken --quiet\n!pip install wget --quiet\n!pip install openai --quiet"
    },
    {
      "cell_type": "code",
      "execution_count": null,
      "id": "a592dd5e-4114-4abf-923d-74038f5244eb",
      "metadata": {},
      "outputs": [],
      "source": "import pandas as pd\nimport os\nimport wget\nimport json"
    },
    {
      "cell_type": "code",
      "execution_count": null,
      "id": "c2bffc74-4b6a-4c0f-acef-f72bb255ec79",
      "metadata": {},
      "outputs": [],
      "source": "# Import the library for vectorizing the data (Up to 2 minutes)\n!pip install sentence-transformers --quiet\n\nfrom sentence_transformers import SentenceTransformer\n\nmodel = SentenceTransformer('flax-sentence-embeddings/all_datasets_v3_mpnet-base')"
    },
    {
      "cell_type": "markdown",
      "id": "0aa95a80-5683-4dc3-9e52-c3e890ab87af",
      "metadata": {},
      "source": "## Import data from CSV file\nThis csv file holds the title, summary, and category of approximately 2000 news articles."
    },
    {
      "cell_type": "code",
      "execution_count": null,
      "id": "b1b2971e-d0f6-4cfa-a9a7-954602bda460",
      "metadata": {},
      "outputs": [],
      "source": "# download reviews csv file\ncvs_file_path = \"https://raw.githubusercontent.com/openai/openai-cookbook/main/examples/data/AG_news_samples.csv\"\nfile_path = \"AG_news_samples.csv\"\n\nif not os.path.exists(file_path):\n    wget.download(cvs_file_path, file_path)\n    print(\"File downloaded successfully.\")\nelse:\n    print(\"File already exists in the local file system.\")"
    },
    {
      "cell_type": "code",
      "execution_count": null,
      "id": "4d08a1ea-59fb-4334-ba54-aa86119cbaea",
      "metadata": {},
      "outputs": [],
      "source": "df = pd.read_csv('AG_news_samples.csv')\ndf.pop('label_int')\ndf"
    },
    {
      "cell_type": "code",
      "execution_count": null,
      "id": "e30c69d3-a807-4437-84e9-6972e3bc3d85",
      "metadata": {},
      "outputs": [],
      "source": "data = df.values.tolist()"
    },
    {
      "cell_type": "markdown",
      "id": "0b6c6560-bc60-43ba-93a4-1b4aee933d5b",
      "metadata": {},
      "source": "## Set up the database"
    },
    {
      "cell_type": "markdown",
      "id": "e1dd6296-54b0-4f8d-886a-13cacfc28163",
      "metadata": {},
      "source": "Set up the SingleStoreDB database which will hold your data."
    },
    {
      "cell_type": "code",
      "execution_count": null,
      "id": "e1874b6f-706a-4638-ad2a-ca387953acaa",
      "metadata": {},
      "outputs": [],
      "source": "%%sql\nDROP DATABASE IF EXISTS news;\nCREATE DATABASE IF NOT EXISTS news;"
    },
    {
      "cell_type": "markdown",
      "id": "553f42af-0b29-4e11-a54b-9879447b2a27",
      "metadata": {},
      "source": "<div class=\\\"alert alert-block alert-warning\\\" style=\"display: flex; background-color: rgba(255, 224, 177, 0.85); padding: 15px;\">   \n    <b class=\\\"fa fa-solid fa-exclamation-circle\\\"></b>    \n    <div>        \n        <p><b>Action Required</b></p>        \n        <p>Make sure to select the <tt>news</tt> database from the drop-down menu at the top of this notebook. It updates the <tt>connection_url</tt> which is used by the <tt>%%sql</tt> magic command and SQLAlchemy to make connections to the selected database.\n        </p>    \n    </div>\n</div>"
    },
    {
      "cell_type": "code",
      "execution_count": null,
      "id": "3f1e2c3d-6fbd-46bb-9bd3-235eb51941cf",
      "metadata": {},
      "outputs": [],
      "source": "%%sql\nDROP TABLE IF EXISTS news_articles;\nCREATE TABLE IF NOT EXISTS news_articles (\n    title TEXT,\n    description TEXT,\n    genre TEXT,\n    embedding BLOB,\n    FULLTEXT (title, description)\n);"
    },
    {
      "cell_type": "markdown",
      "id": "d6a1952b-7313-4007-9ec5-4c506425190f",
      "metadata": {},
      "source": "Connect to your SingleStoreDB Cloud workspaces using SQLAlchemy."
    },
    {
      "cell_type": "code",
      "execution_count": null,
      "id": "1e8b918f-d849-4bad-b5e9-1cf8be138026",
      "metadata": {},
      "outputs": [],
      "source": "from singlestoredb import create_engine\n\ndb_connection = create_engine().connect()"
    },
    {
      "cell_type": "markdown",
      "id": "8bd97023-3d02-44d4-8bd3-59875cb22b6c",
      "metadata": {},
      "source": "### Get embeddings for every row based on the description column"
    },
    {
      "cell_type": "code",
      "execution_count": null,
      "id": "496f84d0-51b6-4b66-bf5b-b1b260e4c2de",
      "metadata": {},
      "outputs": [],
      "source": "# Will take around 3.5 minutes to get embeddings for all 2000 columns\n\ndescriptions = [row[1] for row in data]\nall_embeddings = model.encode(descriptions)\nall_embeddings.shape"
    },
    {
      "cell_type": "code",
      "execution_count": null,
      "id": "05b2f3fe-c35c-4252-b416-9f7b7aec60a6",
      "metadata": {},
      "outputs": [],
      "source": "combined_data = [tuple(row) + (embedding,) for embedding, row in zip(all_embeddings, data)]"
    },
    {
      "cell_type": "markdown",
      "id": "46b1628c-0ffc-4a84-ba8b-43e8df081b01",
      "metadata": {},
      "source": "### Populate the database"
    },
    {
      "cell_type": "code",
      "execution_count": null,
      "id": "cd3e5f9b-d9e5-45fe-ba20-4fb021d7a425",
      "metadata": {},
      "outputs": [],
      "source": "%sql TRUNCATE TABLE news_articles;\n\nstatement = '''\n        INSERT INTO news.news_articles (\n            title,\n            description,\n            genre,\n            embedding\n        )\n        VALUES (\n            %s,\n            %s,\n            %s,\n            %s\n        )\n    '''\n\nfor i, row in enumerate(combined_data):\n    try:\n        db_connection.execute(statement, row)\n    except Exception as e:\n        print(\"Error inserting row {}: {}\".format(i, e))"
    },
    {
      "cell_type": "markdown",
      "id": "a2f3d567-eaf4-487a-a1f9-2eb7e1071991",
      "metadata": {},
      "source": "## Semantic search"
    },
    {
      "cell_type": "markdown",
      "id": "7ad3b8f6-d3a8-4954-a737-f11c785ce9ce",
      "metadata": {},
      "source": "### Connect to OpenAI"
    },
    {
      "cell_type": "code",
      "execution_count": null,
      "id": "598d7077-d04c-46b3-b7c4-7b4362dd4507",
      "metadata": {},
      "outputs": [],
      "source": "import openai\n\n# models\nEMBEDDING_MODEL = \"text-embedding-ada-002\"\nGPT_MODEL = \"gpt-3.5-turbo\""
    },
    {
      "cell_type": "code",
      "execution_count": null,
      "id": "9eea2f67-3c2e-4d1a-87c2-052c2acf4026",
      "metadata": {},
      "outputs": [],
      "source": "openai.api_key = 'YOUR_API_KEY_HERE'"
    },
    {
      "cell_type": "markdown",
      "id": "6504f561-1ab1-4dbf-a523-0aef23b66e4b",
      "metadata": {},
      "source": "### Run semantic search and get scores"
    },
    {
      "cell_type": "code",
      "execution_count": null,
      "id": "a62a4c06-d77a-49b1-beaf-4c54b04d001f",
      "metadata": {},
      "outputs": [],
      "source": "from openai.embeddings_utils import get_embedding\n\nsearch_query = \"Articles about Aussie captures\"\nsearch_embedding = model.encode(search_query)\n\n# Create the SQL statement.\nquery_statement = \"\"\"\n    SELECT\n        title,\n        description,\n        genre,\n        DOT_PRODUCT(embedding, %(embedding)s) AS score\n    FROM news.news_articles\n    ORDER BY score DESC\n    LIMIT 10\n    \"\"\"\n\n# Execute the SQL statement.\nresults = pd.DataFrame(db_connection.execute(query_statement, dict(embedding=search_embedding)))\nresults"
    },
    {
      "cell_type": "markdown",
      "id": "2c8ff862-ea5b-4960-be5b-bcd530d6e918",
      "metadata": {},
      "source": "## Hybrid search"
    },
    {
      "cell_type": "markdown",
      "id": "d0b2cff3-76f8-4a35-a596-4f001a9b4c8c",
      "metadata": {},
      "source": "This search finds the average of the score gotten from the semantic search and the score gotten from the key-word search and sorts the news articles by this combined score to perform an effective hybrid search."
    },
    {
      "cell_type": "code",
      "execution_count": null,
      "id": "9df7073f-6a89-4528-968c-7d5c21876a83",
      "metadata": {},
      "outputs": [],
      "source": "hyb_query = \"Articles about Aussie captures\"\nhyb_embedding = model.encode(hyb_query)\n\n# Create the SQL statement.\nhyb_statement = \"\"\"\n    SELECT\n        title,\n        description,\n        genre,\n        DOT_PRODUCT(embedding, %(embedding)s) AS semantic_score,\n        MATCH(title, description) AGAINST (%(query)s) AS keyword_score,\n        (semantic_score + keyword_score) / 2 AS combined_score\n    FROM news.news_articles\n    ORDER BY combined_score DESC\n    LIMIT 10\n    \"\"\"\n\n# Execute the SQL statement.\nhyb_results = pd.DataFrame(db_connection.execute(hyb_statement, dict(embedding=hyb_embedding, query=hyb_query)))\nhyb_results"
    },
    {
      "cell_type": "markdown",
      "id": "f9f6e53b-fb02-4d1a-908f-b96d1c2cdfd0",
      "metadata": {},
      "source": "<div id=\"singlestore-footer\" style=\"background-color: rgba(194, 193, 199, 0.25); height:2px; margin-bottom:10px\"></div>\n<div><img src=\"https://raw.githubusercontent.com/singlestore-labs/spaces-notebooks/master/common/images/singlestore-logo-grey.png\" style=\"padding: 0px; margin: 0px; height: 24px\"/></div>"
    }
  ],
  "metadata": {
    "jupyterlab": {
      "notebooks": {
        "version_major": 6,
        "version_minor": 4
      }
    },
    "kernelspec": {
      "display_name": "Python 3 (ipykernel)",
      "language": "python",
      "name": "python3"
    },
    "language_info": {
      "codemirror_mode": {
        "name": "ipython",
        "version": 3
      },
      "file_extension": ".py",
      "mimetype": "text/x-python",
      "name": "python",
      "nbconvert_exporter": "python",
      "pygments_lexer": "ipython3",
      "version": "3.11.4"
    }
  },
  "nbformat": 4,
  "nbformat_minor": 5
}
